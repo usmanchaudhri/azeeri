{
 "cells": [
  {
   "cell_type": "code",
   "execution_count": null,
   "metadata": {},
   "outputs": [],
   "source": [
    "! pip3 install -U scikit-learn"
   ]
  },
  {
   "cell_type": "code",
   "execution_count": null,
   "metadata": {},
   "outputs": [],
   "source": [
    "! pip3 install -U nltk"
   ]
  },
  {
   "cell_type": "code",
   "execution_count": null,
   "metadata": {},
   "outputs": [],
   "source": [
    "! pip3 install Unidecode"
   ]
  },
  {
   "cell_type": "code",
   "execution_count": 6,
   "metadata": {},
   "outputs": [
    {
     "name": "stdout",
     "output_type": "stream",
     "text": [
      "showing info https://raw.githubusercontent.com/nltk/nltk_data/gh-pages/index.xml\n"
     ]
    },
    {
     "data": {
      "text/plain": [
       "True"
      ]
     },
     "execution_count": 6,
     "metadata": {},
     "output_type": "execute_result"
    }
   ],
   "source": [
    "import nltk\n",
    "nltk.download()"
   ]
  },
  {
   "cell_type": "code",
   "execution_count": 17,
   "metadata": {},
   "outputs": [
    {
     "data": {
      "text/plain": [
       "'sample non ascii cenia remove stopwords punctuations'"
      ]
     },
     "execution_count": 17,
     "metadata": {},
     "output_type": "execute_result"
    }
   ],
   "source": [
    "import nltk\n",
    "import string\n",
    "\n",
    "from nltk.corpus import stopwords\n",
    "from unidecode import unidecode\n",
    "\n",
    "# sentence pair\n",
    "corpus = [\"A girl is styling her hair.\", \"A girl is brushing her hair.\"]\n",
    "# for c in range(len(corpus)):\n",
    "#     corpus[c] = pre_process(c)\n",
    "    \n",
    "def pre_process(corpus):\n",
    "    # convert input corpus to lower case\n",
    "    corpus = corpus.lower()\n",
    "    \n",
    "    # collecting a list of stop words from nltk and punctuation form\n",
    "    # string class and create single array.   \n",
    "    stopset = stopwords.words('english') + list(string.punctuation)\n",
    "    \n",
    "    # remove stop words and punctuations from string.\n",
    "    # word_tokenize is used to tokenize the input corpus in word tokens.\n",
    "    corpus = \" \".join([i for i in nltk.wordpunct_tokenize(corpus) if i not in stopset])\n",
    "    \n",
    "    # remove non-ascii characters\n",
    "    corpus = unidecode(corpus)\n",
    "    return corpus\n",
    "\n",
    "corpus = pre_process(\"Sample of non ASCII: Ceñía. How to remove stopwords and punctuations?\")\n",
    "corpus"
   ]
  },
  {
   "cell_type": "code",
   "execution_count": 19,
   "metadata": {},
   "outputs": [
    {
     "name": "stdout",
     "output_type": "stream",
     "text": [
      "['girl styling hair', 'girl brushing hair']\n",
      "  (0, 7)\t0.4992213265230509\n",
      "  (0, 6)\t0.4992213265230509\n",
      "  (0, 5)\t0.35520008546852583\n",
      "  (0, 4)\t0.4992213265230509\n",
      "  (0, 2)\t0.35520008546852583\n",
      "  (1, 5)\t0.35520008546852583\n",
      "  (1, 3)\t0.4992213265230509\n",
      "  (1, 2)\t0.35520008546852583\n",
      "  (1, 1)\t0.4992213265230509\n",
      "  (1, 0)\t0.4992213265230509\n"
     ]
    }
   ],
   "source": [
    "from sklearn.feature_extraction.text import TfidfVectorizer\n",
    "\n",
    "# sentence pair\n",
    "corpus = [\"A girl is styling her hair.\", \"A girl is brushing her hair.\"]\n",
    "\n",
    "for c in range(len(corpus)):\n",
    "    corpus[c] = pre_process(corpus[c])\n",
    "\n",
    "    \n",
    "print(corpus)\n",
    "    \n",
    "# creating vocabulary using uni-gram and bi-gram\n",
    "tfidf_vectorizer = TfidfVectorizer(ngram_range=(1,2))\n",
    "tfidf_vectorizer.fit(corpus)\n",
    "\n",
    "feature_vectors = tfidf_vectorizer.transform(corpus)"
   ]
  },
  {
   "cell_type": "code",
   "execution_count": 22,
   "metadata": {},
   "outputs": [
    {
     "name": "stdout",
     "output_type": "stream",
     "text": [
      "  (0, 7)\t0.4992213265230509\n",
      "  (0, 6)\t0.4992213265230509\n",
      "  (0, 5)\t0.35520008546852583\n",
      "  (0, 4)\t0.4992213265230509\n",
      "  (0, 2)\t0.35520008546852583\n",
      "<class 'scipy.sparse.csr.csr_matrix'>\n"
     ]
    }
   ],
   "source": [
    "print(feature_vectors[0])\n",
    "print(type(feature_vectors))\n"
   ]
  },
  {
   "cell_type": "code",
   "execution_count": 28,
   "metadata": {},
   "outputs": [
    {
     "name": "stdout",
     "output_type": "stream",
     "text": [
      "[3.14159 2.71828 1.618  ]\n",
      "[4.14159 3.71828 1.987  ]\n",
      "[[3.14159 2.71828 1.618  ]]\n",
      "[[4.14159 3.71828 1.987  ]]\n",
      "0.9994468408982498\n",
      "[[1 1 0 1 1]]\n",
      "[[0 1 0 1 1]]\n",
      "0.8660254037844388\n"
     ]
    }
   ],
   "source": [
    "# cosine similarity\n",
    "from sklearn.metrics.pairwise import cosine_similarity\n",
    "import numpy as np\n",
    "\n",
    "def get_cosine_similarity(feature_vec_1, feature_vec_2):\n",
    "    return cosine_similarity(feature_vec_1.reshape(1,-1), feature_vec_2.reshape(1,-1))[0][0]\n",
    "\n",
    "\n",
    "feature_vector_1 = np.array([3.14159, 2.71828, 1.618]) \n",
    "feature_vector_2 = np.array([4.14159, 3.71828, 1.987])\n",
    "print(feature_vector_1)\n",
    "print(feature_vector_2)\n",
    "print(feature_vector_1.reshape(1,-1))\n",
    "print(feature_vector_2.reshape(1,-1))\n",
    "print(get_cosine_similarity(feature_vector_1, feature_vector_2))\n",
    "\n",
    "feature_vector_1 = np.array([[1,1,0,1,1]]) \n",
    "feature_vector_2 = np.array([[0,1,0,1,1]])\n",
    "print(feature_vector_1)\n",
    "print(feature_vector_2)\n",
    "print(get_cosine_similarity(feature_vector_1, feature_vector_2))\n"
   ]
  },
  {
   "cell_type": "code",
   "execution_count": 40,
   "metadata": {},
   "outputs": [
    {
     "data": {
      "text/plain": [
       "-0.4999999999999999"
      ]
     },
     "execution_count": 40,
     "metadata": {},
     "output_type": "execute_result"
    }
   ],
   "source": [
    "# cosine similarity\n",
    "# K(X, Y) = <X, Y> / (||X||*||Y||)\n",
    "from sklearn.metrics.pairwise import cosine_similarity\n",
    "similarity = cosine_similarity([[1, 0, -1]], [[-1,-1, 0]])\n",
    "similarity[0][0]\n"
   ]
  },
  {
   "cell_type": "code",
   "execution_count": null,
   "metadata": {},
   "outputs": [],
   "source": []
  },
  {
   "cell_type": "code",
   "execution_count": null,
   "metadata": {},
   "outputs": [],
   "source": []
  }
 ],
 "metadata": {
  "kernelspec": {
   "display_name": "Python 3",
   "language": "python",
   "name": "python3"
  },
  "language_info": {
   "codemirror_mode": {
    "name": "ipython",
    "version": 3
   },
   "file_extension": ".py",
   "mimetype": "text/x-python",
   "name": "python",
   "nbconvert_exporter": "python",
   "pygments_lexer": "ipython3",
   "version": "3.7.0"
  }
 },
 "nbformat": 4,
 "nbformat_minor": 4
}
